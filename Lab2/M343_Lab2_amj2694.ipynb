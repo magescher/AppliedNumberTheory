{
 "cells": [
  {
   "cell_type": "markdown",
   "metadata": {},
   "source": [
    "## M343 - Applied Number Theory\n",
    "## Assignment #2\n",
    "### Abigail Johnson ( amj2694 )\n",
    "### Fall 2016"
   ]
  },
  {
   "cell_type": "code",
   "execution_count": 13,
   "metadata": {
    "collapsed": false
   },
   "outputs": [],
   "source": [
    "from __future__ import division\n",
    "from math import factorial\n",
    "import sys\n",
    "import os\n",
    "import math\n",
    "import numpy as np\n",
    "import re\n",
    "\n",
    "IN_FILE = 'input.txt'\n",
    "OUT_FILE = 'output.txt'\n",
    "\n",
    "\n",
    "# opens file specified by name, returns contents in array of strings\n",
    "def process_file( file_name ):\n",
    "    return open(file_name).read().splitlines()\n",
    "\n",
    "\n",
    "# Returns gcd(x,y) using Euclidean algorithm\n",
    "# Uses fact that (1) m = nq + r where 0 <= r < n ( for m,n,q,r in Z )\n",
    "#                (2) gcd(m,n) = gcd(n,r)    \n",
    "def gcd(x,y):\n",
    "    # slight performance optimization ( x > 0 added to account neg num)\n",
    "    if y > x and x > 0 :\n",
    "        return gcd(y,x)\n",
    "    elif x % y == 0:\n",
    "        return abs(y)\n",
    "    else:\n",
    "        return abs(gcd( y , x % y ))\n",
    "    \n",
    "    \n",
    "# Computes addition or multiplication (denoted by op) for x and y in ring m    \n",
    "def addition_multiplication_ring(m, op, x, y):\n",
    "    if op == \"*\":\n",
    "        result = ( x * y) % m\n",
    "    else:\n",
    "        result = ( x + y) % m\n",
    "    return result\n",
    "\n",
    "\n",
    "# Decode Message Encrypted with Shift Cypher\n",
    "def decode_shift_cipher(message):\n",
    "    # 1. Preprocess message and setup dicts \n",
    "    message = message.lower()\n",
    "    message = re.sub(r'[^a-zA-Z ]+', '', message)\n",
    "    \n",
    "    # 2. Set up dict objects used for processing \n",
    "    alph_dict = { 'a' : 0, 'b': 1, 'c': 2, 'd': 3, 'e' : 4, 'f' : 5, 'g' : 6, 'h' : 7, 'i' : 8, \n",
    "                 'j' : 9, 'k' : 10, 'l' : 11, 'm' : 12, 'n' : 13, 'o' : 14, 'p' : 15, 'q' : 16, \n",
    "                 'r' : 17, 's' : 18 , 't' : 19, 'u' : 20, 'v' : 21, 'w' : 22, 'x' : 23, 'y' : 24, 'z' : 25 }\n",
    "    alph_dict_inv = { v: k for k, v in alph_dict.items() } # invert to allow reverse indexing \n",
    "    english_dict = enchant.Dict(\"en_US\")\n",
    "    shift_dict = {'key' : 0, 'valid_words' : 0, 'message': '' }\n",
    "    \n",
    "    # 2. Shift messasge 0-25 times, determine and record num valid words seen in shift_dict\n",
    "    for key in range(0,26):            \n",
    "        message_shift = [ char if char == ' ' else alph_dict_inv[ ( (alph_dict[char] + key) % 26 ) ] for char in message ]\n",
    "        message_shift = ''.join(message_shift)\n",
    "        valid_words = 0\n",
    "        for word in message_shift.split(' '):\n",
    "            if english_dict.check(word):\n",
    "                valid_words += 1\n",
    "        if valid_words >= shift_dict['valid_words']:\n",
    "            shift_dict['key'] = key\n",
    "            shift_dict['valid_words'] = valid_words\n",
    "            shift_dict['message'] = message_shift\n",
    "    return shift_dict\n",
    "\n",
    "\n",
    "# computes g^x using fast exponentiation\n",
    "def fast_exponentiation(g, x):\n",
    "    if x == 0:\n",
    "        return 1\n",
    "    elif x % 2 == 1:\n",
    "        return g * fast_exponentiation( g, x-1 )\n",
    "    else:\n",
    "        exp = fast_exponentiation( g, x/2)\n",
    "        return exp * exp\n",
    "\n"
   ]
  },
  {
   "cell_type": "markdown",
   "metadata": {},
   "source": [
    "#### Problem 1 - Elgamal Encryption\n",
    "Please write a computer program that performs Elgamal encryption. The input is a file “input.txt” that has p on the first line, g on the second line, m on the third line, and g^a (the value sent by Alice) on the fourth line. Output the result to “output.txt”."
   ]
  },
  {
   "cell_type": "code",
   "execution_count": 48,
   "metadata": {
    "collapsed": false
   },
   "outputs": [
    {
     "name": "stdout",
     "output_type": "stream",
     "text": [
      "{'u': 1, 'gcd': 1, 'v': -2}\n",
      "Inverse :  3\n",
      "1\n",
      "y :  3\n",
      "Elgamal Encryption with p =  5 , g =  2 , m =  3 , g_pow_a =  4  :\n",
      " \t e(m) =  (64, 128)\n"
     ]
    }
   ],
   "source": [
    "# Computes a inverse mod p \n",
    "# using Euclidean Algorithm and fact that \n",
    "def inverse_mod_p( a, p ):\n",
    "    inv = u_v_gcd(a,p)['u']\n",
    "   \n",
    "    if inv < 0 :\n",
    "        #print( \"Negative inverse : \", inv, \" Normalizing to postive inverse : \" , inv % p, \" p = \", p)\n",
    "        inv = inv % p\n",
    "    \n",
    "    return inv\n",
    "\n",
    "# TODO: current does not handle b = 0 . fix it\n",
    "# given a and b, returns gcd and u,v inc Integer st au + bv = gcd(a,b)\n",
    "def u_v_gcd(a, b):\n",
    "    u = 1; gcd = a; x = 0; y = b\n",
    "    while True:\n",
    "        if y == 0:\n",
    "            v = ( gcd - ( a * u ) ) // b\n",
    "            ret = {}\n",
    "            ret['u'] = u ; ret['v'] = v ; ret['gcd'] = gcd\n",
    "            return ret\n",
    "        q = gcd // y \n",
    "        r = gcd % y\n",
    "        s = u - ( q * x )\n",
    "        u = x ; x = s; gcd = y ; y = r\n",
    "    \n",
    "# Encrypts plaintext using elgamal encription\n",
    "# returns ( c1, c2 )\n",
    "# where c1 = ( g ^ k ) mod p\n",
    "#       c2 = ( m * A ^ k ) mod p\n",
    "#            where A = (g ^ a ) \n",
    "def elgamal_encryption(p, g, m, g_pow_a):\n",
    "    y = np.random.randint( 1, p )\n",
    "    print(\"y : \", y)\n",
    "    c1 = fast_exponentiation( g_pow_a, y)\n",
    "    c2 = c1 * inverse_mod_p( m, p)\n",
    "    return ( c1, c2 )\n",
    "\n",
    "def main():\n",
    "    args = open('input.txt').read().splitlines()\n",
    "    p = int(args[0]); g = int(args[1]) ; m = int(args[2]) ; g_pow_a = int(args[3]) \n",
    "    result = elgamal_encryption( p, g, m, g_pow_a )\n",
    "    print( \"Elgamal Encryption with p = \", p, \", g = \", g, \", m = \", m, \", g_pow_a = \", g_pow_a, \" :\\n \\t e(m) = \", result)\n",
    "    open('output.txt', 'w').write( str(result) )\n",
    "    \n",
    "if  __name__ =='__main__':\n",
    "    main()"
   ]
  },
  {
   "cell_type": "markdown",
   "metadata": {},
   "source": [
    "#### Problem 2 - Babystep Giantstep Algorithm\n",
    "Write a computer program that implements the Babystep-Giantstep algorithm for solving the discrete log problem. The input is a file “in- put.txt” that has p on the first line, g on the second, and h on the third. Output the result to “output.txt”."
   ]
  },
  {
   "cell_type": "code",
   "execution_count": 63,
   "metadata": {
    "collapsed": false
   },
   "outputs": [
    {
     "name": "stdout",
     "output_type": "stream",
     "text": [
      "0\n",
      "Result of Babystep Giantstep ( p =  5  g =  2  h =  3 ) :\n",
      "  3\n"
     ]
    }
   ],
   "source": [
    "\n",
    "# Input: A cyclic group G of order p, having a generator g and an element h.\n",
    "# Output: A value x st g^x congr h modulo p\n",
    "# Run-time : O( n^(1/2) )\n",
    "def baby_step_giant_step(p, g, h):\n",
    "\n",
    "    # 1. Compute limits\n",
    "    m = math.ceil( math.sqrt(p) )\n",
    "    \n",
    "    # 2. Giant Step\n",
    "    giant_step = {}\n",
    "    for i in range ( 0, m ):\n",
    "        giant_step[ fast_exponentiation( g , i) % p ] = i\n",
    "    \n",
    "    # 3. Baby Step / Intersection detection\n",
    "    g_inv = inverse_mod_p( g, p )\n",
    "    u = g_inv ** m \n",
    "    for i in range ( 0, m ):\n",
    "        baby_step = ( ( u ** i ) * h ) % p \n",
    "        if baby_step in giant_step:\n",
    "            x = m * i + giant_step[ baby_step ]\n",
    "            return x\n",
    "\n",
    "print(baby_step_giant_step(17,3,1))    \n",
    "#print(baby_step_giant_step(31,3,6))\n",
    "\n",
    "# Test file : p = 5, g = 2 , h = 1\n",
    "def main():\n",
    "    args = open('input.txt').read().splitlines()\n",
    "    p = int(args[0]) ; g = int(args[1]) ; h = int(args[2])  \n",
    "    result = baby_step_giant_step( p, g, h )\n",
    "    print( \"Result of Babystep Giantstep ( p = \", p, \" g = \", g, \" h = \", h, \") :\\n \", result)\n",
    "    open('output.txt', 'w').write( str(result) )\n",
    "    \n",
    "if  __name__ =='__main__':\n",
    "    main()"
   ]
  },
  {
   "cell_type": "markdown",
   "metadata": {},
   "source": [
    "#### Problem 1.36\n",
    "Compute 2^[ (p-1)/2 ] mod p for every prime 3 <= p < 20 and make conjectures about values. Prove your conjecture right."
   ]
  },
  {
   "cell_type": "code",
   "execution_count": 40,
   "metadata": {
    "collapsed": false
   },
   "outputs": [
    {
     "name": "stdout",
     "output_type": "stream",
     "text": [
      "2^[ (p-1)/2 ] mod p for p =  3  :  2  \n",
      "\n",
      "2^[ (p-1)/2 ] mod p for p =  5  :  4  \n",
      "\n",
      "2^[ (p-1)/2 ] mod p for p =  7  :  1  \n",
      "\n",
      "2^[ (p-1)/2 ] mod p for p =  11  :  10  \n",
      "\n",
      "2^[ (p-1)/2 ] mod p for p =  13  :  12  \n",
      "\n",
      "2^[ (p-1)/2 ] mod p for p =  17  :  1  \n",
      "\n",
      "2^[ (p-1)/2 ] mod p for p =  19  :  18  \n",
      "\n"
     ]
    }
   ],
   "source": [
    "primes = [ 3, 5, 7, 11, 13, 17, 19 ]\n",
    "for p in primes:\n",
    "    exp = ( p - 1 ) /2\n",
    "    val =  ( fast_exponentiation(2, exp) ) % p\n",
    "    print(\"2^[ (p-1)/2 ] mod p for p = \", p, \" : \", val, \" \\n\")\n",
    "    "
   ]
  },
  {
   "cell_type": "code",
   "execution_count": null,
   "metadata": {
    "collapsed": true
   },
   "outputs": [],
   "source": []
  }
 ],
 "metadata": {
  "kernelspec": {
   "display_name": "Python 3",
   "language": "python",
   "name": "python3"
  },
  "language_info": {
   "codemirror_mode": {
    "name": "ipython",
    "version": 3
   },
   "file_extension": ".py",
   "mimetype": "text/x-python",
   "name": "python",
   "nbconvert_exporter": "python",
   "pygments_lexer": "ipython3",
   "version": "3.5.1"
  },
  "widgets": {
   "state": {},
   "version": "1.1.2"
  }
 },
 "nbformat": 4,
 "nbformat_minor": 0
}
