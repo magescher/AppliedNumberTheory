{
 "cells": [
  {
   "cell_type": "markdown",
   "metadata": {},
   "source": [
    "## M343 - Applied Number Theory\n",
    "## Assignment #1\n",
    "### Abigail Johnson ( amj2694 )\n",
    "### Fall 2016"
   ]
  },
  {
   "cell_type": "code",
   "execution_count": 12,
   "metadata": {
    "collapsed": false
   },
   "outputs": [],
   "source": [
    "from math import factorial\n",
    "from __future__ import division\n",
    "import numpy as np\n",
    "import pandas as pd\n",
    "\n",
    "IN_FILE = 'input.txt'\n",
    "OUT_FILE = 'output.txt'\n",
    "\n",
    "# opens file specified by name, returns contents in array of strings\n",
    "def process_file( file_name ):\n",
    "    return open(file_name).read().splitlines()\n"
   ]
  },
  {
   "cell_type": "markdown",
   "metadata": {},
   "source": [
    "#### Problem 1\n",
    "Write a computer program that computes gcd(x, y) using the Euclidean algorithm. Read the numbers from a file “input.txt”, which will have x on the first line and y on the second line. Output the result to a file \"output.txt”."
   ]
  },
  {
   "cell_type": "code",
   "execution_count": 19,
   "metadata": {
    "collapsed": false
   },
   "outputs": [],
   "source": [
    "# Returns gcd(x,y) using Euclidean algorithm\n",
    "# Uses fact that (1) m = nq + r where 0 <= r < n ( for m,n,q,r in Z )\n",
    "#                (2) gcd(m,n) = gcd(n,r)    \n",
    "def gcd(x,y):\n",
    "    # slight optimization\n",
    "    if y > x:\n",
    "        return gcd(y,x)\n",
    "    elif x % y == 0:\n",
    "        return y\n",
    "    else:\n",
    "        return gcd( y , x % y )\n",
    "       \n",
    "# Problem 1 Driver\n",
    "args = open('input1.txt').read().splitlines()\n",
    "gcd = gcd( int(args[0]), int(args[1]) )\n",
    "open('output1.txt', 'w').write( str(gcd) )"
   ]
  },
  {
   "cell_type": "markdown",
   "metadata": {},
   "source": [
    "#### Problem 2\n",
    "Write a computer program that computes addition and multiplication in the ring Z/m. The input is a file “input.txt” that has m on the first line,either + or ∗ on the second line, and then x and y on the subsequent lines. Output the result to a file “output.txt”."
   ]
  },
  {
   "cell_type": "code",
   "execution_count": null,
   "metadata": {
    "collapsed": true
   },
   "outputs": [],
   "source": []
  },
  {
   "cell_type": "markdown",
   "metadata": {},
   "source": [
    "#### Problem 3\n",
    "(3) Write a computer program that computes g(x) for g ∈ Z/n and x ∈ Z using the fast exponentiation algorithm. The input is a file “input.txt” that has n on the first line, g on the second line, and x on the third. Output the result to a file “output.txt”."
   ]
  },
  {
   "cell_type": "code",
   "execution_count": null,
   "metadata": {
    "collapsed": true
   },
   "outputs": [],
   "source": []
  },
  {
   "cell_type": "markdown",
   "metadata": {},
   "source": [
    "#### Problem 4\n",
    "Write a program that decodes an encrypted message about which you know only that it was encoded using some shift cipher. The input is a file “input.txt”"
   ]
  },
  {
   "cell_type": "code",
   "execution_count": null,
   "metadata": {
    "collapsed": true
   },
   "outputs": [],
   "source": [
    "alph_dict = { 'a' : 1, 'b': 2, 'c': 3, 'd': 4, 'e' : 5, 'f' : 6, 'g' : 7, 'h' : 8, 'i' : 9, \n",
    "             'j' : 10, 'k' : 11, 'l' : 12, 'm' : 13, 'n' : 14, 'o' : 15, 'p' : 16, 'q' : 17, \n",
    "             'r' : 18, 's' : 19 , 't' : 20, 'u' : 21, 'v' : 22, 'w' : 23, 'x' : 24, 'y' : 25, 'z' : 26 }\n",
    "    "
   ]
  },
  {
   "cell_type": "markdown",
   "metadata": {},
   "source": [
    "#### Problem 5\n",
    "From the text: 1.14, 1.23, 1.25"
   ]
  },
  {
   "cell_type": "code",
   "execution_count": null,
   "metadata": {
    "collapsed": true
   },
   "outputs": [],
   "source": []
  }
 ],
 "metadata": {
  "kernelspec": {
   "display_name": "Python 2",
   "language": "python",
   "name": "python2"
  },
  "language_info": {
   "codemirror_mode": {
    "name": "ipython",
    "version": 2
   },
   "file_extension": ".py",
   "mimetype": "text/x-python",
   "name": "python",
   "nbconvert_exporter": "python",
   "pygments_lexer": "ipython2",
   "version": "2.7.11"
  },
  "widgets": {
   "state": {},
   "version": "1.1.2"
  }
 },
 "nbformat": 4,
 "nbformat_minor": 0
}
