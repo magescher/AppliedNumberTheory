{
 "cells": [
  {
   "cell_type": "markdown",
   "metadata": {},
   "source": [
    "## M343 - Applied Number Theory\n",
    "## Assignment #2\n",
    "### Abigail Johnson ( amj2694 )\n",
    "### Fall 2016"
   ]
  },
  {
   "cell_type": "code",
   "execution_count": 2,
   "metadata": {
    "collapsed": false
   },
   "outputs": [],
   "source": [
    "from __future__ import division\n",
    "from math import factorial\n",
    "import sys\n",
    "import os\n",
    "import math\n",
    "import numpy as np\n",
    "import re\n",
    "\n",
    "IN_FILE = 'input.txt'\n",
    "OUT_FILE = 'output.txt'\n",
    "\n",
    "\n",
    "# opens file specified by name, returns contents in array of strings\n",
    "def process_file( file_name ):\n",
    "    return open(file_name).read().splitlines()\n",
    "\n",
    "\n",
    "# Returns gcd(x,y) using Euclidean algorithm\n",
    "# Uses fact that (1) m = nq + r where 0 <= r < n ( for m,n,q,r in Z )\n",
    "#                (2) gcd(m,n) = gcd(n,r)    \n",
    "def gcd(x,y):\n",
    "    # slight performance optimization ( x > 0 added to account neg num)\n",
    "    if y > x and x > 0 :\n",
    "        return gcd(y,x)\n",
    "    elif x % y == 0:\n",
    "        return abs(y)\n",
    "    else:\n",
    "        return abs(gcd( y , x % y ))\n",
    "    \n",
    "    \n",
    "# Computes addition or multiplication (denoted by op) for x and y in ring m    \n",
    "def addition_multiplication_ring(m, op, x, y):\n",
    "    if op == \"*\":\n",
    "        result = ( x * y) % m\n",
    "    else:\n",
    "        result = ( x + y) % m\n",
    "    return result\n",
    "\n",
    "\n",
    "# Decode Message Encrypted with Shift Cypher\n",
    "def decode_shift_cipher(message):\n",
    "    # 1. Preprocess message and setup dicts \n",
    "    message = message.lower()\n",
    "    message = re.sub(r'[^a-zA-Z ]+', '', message)\n",
    "    \n",
    "    # 2. Set up dict objects used for processing \n",
    "    alph_dict = { 'a' : 0, 'b': 1, 'c': 2, 'd': 3, 'e' : 4, 'f' : 5, 'g' : 6, 'h' : 7, 'i' : 8, \n",
    "                 'j' : 9, 'k' : 10, 'l' : 11, 'm' : 12, 'n' : 13, 'o' : 14, 'p' : 15, 'q' : 16, \n",
    "                 'r' : 17, 's' : 18 , 't' : 19, 'u' : 20, 'v' : 21, 'w' : 22, 'x' : 23, 'y' : 24, 'z' : 25 }\n",
    "    alph_dict_inv = { v: k for k, v in alph_dict.items() } # invert to allow reverse indexing \n",
    "    english_dict = enchant.Dict(\"en_US\")\n",
    "    shift_dict = {'key' : 0, 'valid_words' : 0, 'message': '' }\n",
    "    \n",
    "    # 2. Shift messasge 0-25 times, determine and record num valid words seen in shift_dict\n",
    "    for key in range(0,26):            \n",
    "        message_shift = [ char if char == ' ' else alph_dict_inv[ ( (alph_dict[char] + key) % 26 ) ] for char in message ]\n",
    "        message_shift = ''.join(message_shift)\n",
    "        valid_words = 0\n",
    "        for word in message_shift.split(' '):\n",
    "            if english_dict.check(word):\n",
    "                valid_words += 1\n",
    "        if valid_words >= shift_dict['valid_words']:\n",
    "            shift_dict['key'] = key\n",
    "            shift_dict['valid_words'] = valid_words\n",
    "            shift_dict['message'] = message_shift\n",
    "    return shift_dict\n",
    "\n",
    "\n",
    "# computes g^x using fast exponentiation\n",
    "def fast_exponentiation(g, x):\n",
    "    if x == 0:\n",
    "        return 1\n",
    "    elif x % 2 == 1:\n",
    "        return g * fast_exponentiation( g, x-1 )\n",
    "    else:\n",
    "        exp = fast_exponentiation( g, x/2)\n",
    "        return exp * exp\n",
    "\n"
   ]
  },
  {
   "cell_type": "markdown",
   "metadata": {},
   "source": [
    "#### Problem 1 - Elgamal Encryption\n",
    "Please write a computer program that performs Elgamal encryption. The input is a file “input.txt” that has p on the first line, g on the second line, m on the third line, and g^a (the value sent by Alice) on the fourth line. Output the result to “output.txt”."
   ]
  },
  {
   "cell_type": "code",
   "execution_count": 52,
   "metadata": {
    "collapsed": false
   },
   "outputs": [
    {
     "name": "stdout",
     "output_type": "stream",
     "text": [
      "Inverse mod p:  15619\n"
     ]
    },
    {
     "ename": "ValueError",
     "evalue": "invalid literal for int() with base 10: ''",
     "output_type": "error",
     "traceback": [
      "\u001b[0;31m---------------------------------------------------------------------------\u001b[0m",
      "\u001b[0;31mValueError\u001b[0m                                Traceback (most recent call last)",
      "\u001b[0;32m<ipython-input-52-9c4f618d1cac>\u001b[0m in \u001b[0;36m<module>\u001b[0;34m()\u001b[0m\n\u001b[1;32m     42\u001b[0m \u001b[0;34m\u001b[0m\u001b[0m\n\u001b[1;32m     43\u001b[0m \u001b[0;32mif\u001b[0m  \u001b[0m__name__\u001b[0m \u001b[0;34m==\u001b[0m\u001b[0;34m'__main__'\u001b[0m\u001b[0;34m:\u001b[0m\u001b[0;34m\u001b[0m\u001b[0m\n\u001b[0;32m---> 44\u001b[0;31m     \u001b[0mmain\u001b[0m\u001b[0;34m(\u001b[0m\u001b[0;34m)\u001b[0m\u001b[0;34m\u001b[0m\u001b[0m\n\u001b[0m",
      "\u001b[0;32m<ipython-input-52-9c4f618d1cac>\u001b[0m in \u001b[0;36mmain\u001b[0;34m()\u001b[0m\n\u001b[1;32m     36\u001b[0m     \u001b[0mprint\u001b[0m\u001b[0;34m(\u001b[0m\u001b[0;34m'Inverse mod p: '\u001b[0m\u001b[0;34m,\u001b[0m \u001b[0minverse_mod_p\u001b[0m\u001b[0;34m(\u001b[0m\u001b[0;36m3589\u001b[0m \u001b[0;34m,\u001b[0m \u001b[0;36m32610\u001b[0m\u001b[0;34m)\u001b[0m\u001b[0;34m)\u001b[0m\u001b[0;34m\u001b[0m\u001b[0m\n\u001b[1;32m     37\u001b[0m     \u001b[0margs\u001b[0m \u001b[0;34m=\u001b[0m \u001b[0mopen\u001b[0m\u001b[0;34m(\u001b[0m\u001b[0;34m'input.txt'\u001b[0m\u001b[0;34m)\u001b[0m\u001b[0;34m.\u001b[0m\u001b[0mread\u001b[0m\u001b[0;34m(\u001b[0m\u001b[0;34m)\u001b[0m\u001b[0;34m.\u001b[0m\u001b[0msplitlines\u001b[0m\u001b[0;34m(\u001b[0m\u001b[0;34m)\u001b[0m\u001b[0;34m\u001b[0m\u001b[0m\n\u001b[0;32m---> 38\u001b[0;31m     \u001b[0mp\u001b[0m \u001b[0;34m=\u001b[0m \u001b[0mint\u001b[0m\u001b[0;34m(\u001b[0m\u001b[0margs\u001b[0m\u001b[0;34m[\u001b[0m\u001b[0;36m0\u001b[0m\u001b[0;34m]\u001b[0m\u001b[0;34m)\u001b[0m\u001b[0;34m;\u001b[0m \u001b[0mg\u001b[0m \u001b[0;34m=\u001b[0m \u001b[0mint\u001b[0m\u001b[0;34m(\u001b[0m\u001b[0margs\u001b[0m\u001b[0;34m[\u001b[0m\u001b[0;36m1\u001b[0m\u001b[0;34m]\u001b[0m\u001b[0;34m)\u001b[0m \u001b[0;34m;\u001b[0m \u001b[0mm\u001b[0m \u001b[0;34m=\u001b[0m \u001b[0mint\u001b[0m\u001b[0;34m(\u001b[0m\u001b[0margs\u001b[0m\u001b[0;34m[\u001b[0m\u001b[0;36m2\u001b[0m\u001b[0;34m]\u001b[0m\u001b[0;34m)\u001b[0m \u001b[0;34m;\u001b[0m \u001b[0mg_pow_a\u001b[0m \u001b[0;34m=\u001b[0m \u001b[0mint\u001b[0m\u001b[0;34m(\u001b[0m\u001b[0margs\u001b[0m\u001b[0;34m[\u001b[0m\u001b[0;36m3\u001b[0m\u001b[0;34m]\u001b[0m\u001b[0;34m)\u001b[0m\u001b[0;34m\u001b[0m\u001b[0m\n\u001b[0m\u001b[1;32m     39\u001b[0m     \u001b[0mresult\u001b[0m \u001b[0;34m=\u001b[0m \u001b[0melgamal_encryption\u001b[0m\u001b[0;34m(\u001b[0m \u001b[0mp\u001b[0m\u001b[0;34m,\u001b[0m \u001b[0mg\u001b[0m\u001b[0;34m,\u001b[0m \u001b[0mm\u001b[0m\u001b[0;34m,\u001b[0m \u001b[0mg_pow_a\u001b[0m \u001b[0;34m)\u001b[0m\u001b[0;34m\u001b[0m\u001b[0m\n\u001b[1;32m     40\u001b[0m     \u001b[0mprint\u001b[0m\u001b[0;34m(\u001b[0m \u001b[0;34m\"Elgamal Encryption with p = \"\u001b[0m\u001b[0;34m,\u001b[0m \u001b[0mp\u001b[0m\u001b[0;34m,\u001b[0m \u001b[0;34m\", g = \"\u001b[0m\u001b[0;34m,\u001b[0m \u001b[0mg\u001b[0m\u001b[0;34m,\u001b[0m \u001b[0;34m\", m = \"\u001b[0m\u001b[0;34m,\u001b[0m \u001b[0mm\u001b[0m\u001b[0;34m,\u001b[0m \u001b[0;34m\", g_pow_a = \"\u001b[0m\u001b[0;34m,\u001b[0m \u001b[0mg_pow_a\u001b[0m\u001b[0;34m,\u001b[0m \u001b[0;34m\" :\\n \\t e(m) = \"\u001b[0m\u001b[0;34m,\u001b[0m \u001b[0mresult\u001b[0m\u001b[0;34m)\u001b[0m\u001b[0;34m\u001b[0m\u001b[0m\n",
      "\u001b[0;31mValueError\u001b[0m: invalid literal for int() with base 10: ''"
     ]
    }
   ],
   "source": [
    "# Computes a inverse mod p \n",
    "# using Euclidean Algorithm and fact that \n",
    "def inverse_mod_p( a, p ):\n",
    "    inv = u_v_gcd(a,p)['u']\n",
    "    return inv % p\n",
    "\n",
    "# TODO: current does not handle b = 0 . fix it\n",
    "# given a and b, returns gcd and u,v inc Integer st au + bv = gcd(a,b)\n",
    "def u_v_gcd(a, b):\n",
    "    u = 1; gcd = a; x = 0; y = b\n",
    "    while True:\n",
    "        if y == 0:\n",
    "            v = ( gcd - ( a * u ) ) // b\n",
    "            ret = {}\n",
    "            ret['u'] = u ; ret['v'] = v ; ret['gcd'] = abs(gcd)\n",
    "            return ret\n",
    "        q = gcd // y \n",
    "        r = gcd % y\n",
    "        s = u - ( q * x )\n",
    "        u = x ; x = s; gcd = y ; y = r\n",
    " \n",
    "\n",
    "# Encrypts plaintext using elgamal encription\n",
    "# returns ( c1, c2 )\n",
    "# where c1 = ( g ^ k ) mod p\n",
    "#       c2 = ( m * A ^ k ) mod p\n",
    "#            where A = (g ^ a ) \n",
    "def elgamal_encryption(p, g, m, g_pow_a):\n",
    "    y = np.random.randint( 1, p )\n",
    "    print(\"y : \", y)\n",
    "    c1 = fast_exponentiation( g_pow_a, y)\n",
    "    c2 = c1 * inverse_mod_p( m, p)\n",
    "    return ( c1, c2 )\n",
    "\n",
    "def main():\n",
    "    print('Inverse mod p: ', inverse_mod_p(3589 , 32610))\n",
    "    args = open('input.txt').read().splitlines()\n",
    "    p = int(args[0]); g = int(args[1]) ; m = int(args[2]) ; g_pow_a = int(args[3]) \n",
    "    result = elgamal_encryption( p, g, m, g_pow_a )\n",
    "    print( \"Elgamal Encryption with p = \", p, \", g = \", g, \", m = \", m, \", g_pow_a = \", g_pow_a, \" :\\n \\t e(m) = \", result)\n",
    "    open('output.txt', 'w').write( str(result) )\n",
    "    \n",
    "if  __name__ =='__main__':\n",
    "    main()"
   ]
  },
  {
   "cell_type": "markdown",
   "metadata": {},
   "source": [
    "#### Problem 2 - Babystep Giantstep Algorithm\n",
    "Write a computer program that implements the Babystep-Giantstep algorithm for solving the discrete log problem. The input is a file “in- put.txt” that has p on the first line, g on the second, and h on the third. Output the result to “output.txt”."
   ]
  },
  {
   "cell_type": "code",
   "execution_count": 5,
   "metadata": {
    "collapsed": false
   },
   "outputs": [
    {
     "name": "stdout",
     "output_type": "stream",
     "text": [
      "Result of Babystep Giantstep ( p =  2  g =  11250  h =  11250 ) :\n",
      "  1\n"
     ]
    }
   ],
   "source": [
    "\n",
    "# Input: A cyclic group G of order p, having a generator g and an element h.\n",
    "# Output: A value x st g^x congr h modulo p\n",
    "# Run-time : O( n^(1/2) )\n",
    "def baby_step_giant_step(p, g, h):\n",
    "\n",
    "    # 1. Compute limits\n",
    "    m = math.ceil( math.sqrt(p) )\n",
    "    \n",
    "    # 2. Giant Step\n",
    "    giant_step = {}\n",
    "    for i in range ( 0, m ):\n",
    "        giant_step[ fast_exponentiation( g , i) % p ] = i\n",
    "    \n",
    "    # 3. Baby Step / Intersection detection\n",
    "    g_inv = inverse_mod_p( g, p )\n",
    "    u = g_inv ** m \n",
    "    for i in range ( 0, m ):\n",
    "        baby_step = ( ( u ** i ) * h ) % p \n",
    "        if baby_step in giant_step:\n",
    "            x = m * i + giant_step[ baby_step ]\n",
    "            return x\n",
    "\n",
    "# Test file : p = 5, g = 2 , h = 1\n",
    "def main():\n",
    "    args = open('input.txt').read().splitlines()\n",
    "    p = int(args[0]) ; g = int(args[1]) ; h = int(args[2])  \n",
    "    result = baby_step_giant_step( p, g, h )\n",
    "    print( \"Result of Babystep Giantstep ( p = \", p, \" g = \", g, \" h = \", h, \") :\\n \", result)\n",
    "    open('output.txt', 'w').write( str(result) )\n",
    "    \n",
    "if  __name__ =='__main__':\n",
    "    main()\n",
    "    \n",
    "#print(baby_step_giant_step(17,3,1))    \n",
    "#print(baby_step_giant_step(31,3,6))"
   ]
  },
  {
   "cell_type": "markdown",
   "metadata": {},
   "source": [
    "#### Problem 1.36\n",
    "Compute 2^[ (p-1)/2 ] mod p for every prime 3 <= p < 20 and make conjectures about values. Prove your conjecture right."
   ]
  },
  {
   "cell_type": "code",
   "execution_count": 40,
   "metadata": {
    "collapsed": false
   },
   "outputs": [
    {
     "name": "stdout",
     "output_type": "stream",
     "text": [
      "2^[ (p-1)/2 ] mod p for p =  3  :  2  \n",
      "\n",
      "2^[ (p-1)/2 ] mod p for p =  5  :  4  \n",
      "\n",
      "2^[ (p-1)/2 ] mod p for p =  7  :  1  \n",
      "\n",
      "2^[ (p-1)/2 ] mod p for p =  11  :  10  \n",
      "\n",
      "2^[ (p-1)/2 ] mod p for p =  13  :  12  \n",
      "\n",
      "2^[ (p-1)/2 ] mod p for p =  17  :  1  \n",
      "\n",
      "2^[ (p-1)/2 ] mod p for p =  19  :  18  \n",
      "\n"
     ]
    }
   ],
   "source": [
    "primes = [ 3, 5, 7, 11, 13, 17, 19 ]\n",
    "for p in primes:\n",
    "    exp = ( p - 1 ) /2\n",
    "    val =  ( fast_exponentiation(2, exp) ) % p\n",
    "    \n",
    "    print(\"2^[ (p-1)/2 ] mod p for p = \", p, \" : \", val, \" \\n\")\n",
    "    "
   ]
  },
  {
   "cell_type": "markdown",
   "metadata": {
    "collapsed": true
   },
   "source": [
    "#### Discrete Log - Pohlig Hellman\n",
    "For this problem, you will write an efficient discrete log solver, using the Shank’s solver you wrote for last homework as a base.\n",
    "    (a) Implement the “shifting” technique for reducing discrete log mod p^n to discrete log mod p and arithmetic; the result should be a function which takes g, h, p, and n as inputs and solves g x = h mod p ^ n.\n",
    "    (b) Implement the Pohlig-Hellman algorithm, using the function from the first part as your “black box” discrete log solver"
   ]
  },
  {
   "cell_type": "code",
   "execution_count": 57,
   "metadata": {
    "collapsed": false
   },
   "outputs": [
    {
     "name": "stdout",
     "output_type": "stream",
     "text": [
      "{'gcd': 1, 'u': -391, 'v': -470}\n"
     ]
    }
   ],
   "source": [
    "#from operator import mul, mod\n",
    "#from functools import reduce\n",
    "from sympy.ntheory import factorint\n",
    "\n",
    "# TODO : implement as practice ( currently using preimplemented module )\n",
    "# Returns prime factorization of given number\n",
    "def prime_factorization(N):\n",
    "    bases = []\n",
    "    exponents = []\n",
    "    \n",
    "    return bases, exponents \n",
    "\n",
    "# Uses chinese remaineder theorem to solve system of congruences of form:\n",
    "#    x (output) = integers_i (mod modulus_i) for all i \n",
    "def chinese_remainder( a, n ):  \n",
    "    #print(\"integers: \", a, \" modulus: \", n)\n",
    "    sum = 0\n",
    "    prod = reduce(lambda a, b: a*b, n)\n",
    "    for n_i, a_i in zip(n, a):\n",
    "        p = prod / n_i\n",
    "        inv = inverse_mod_p(p, n_i)\n",
    "        #print('inverse_mod_p w/ p=', p,\" n=\", n_i, \" :\\n\", inv, \"\\n\")\n",
    "        sum += a_i * inv * p\n",
    "        \n",
    "    return sum % prod\n",
    "\n",
    "# Pohlig-Hellman reduces discrete log for an element of order N to computing \n",
    "# discrete logs for elements of order q_i^{e_i}, for various primes q_i and exponents \n",
    "# e_i as specified by the prime factorization of N.\n",
    "def pohlig_hellman(p, g, h ):\n",
    "    N = p - 1\n",
    "    # Calculate prime factorization \n",
    "    prime_fact = factorint(N)\n",
    "    primes = [] ; exponents = []\n",
    "    for key, value in prime_fact.items():\n",
    "        primes.append(key)\n",
    "        exponents.append(value)\n",
    "    disc_logs = []\n",
    "    modulus = [ fast_exponentiation( primes[i], exponents[i] ) for i in range( 0, len( primes ) ) ]\n",
    "    # Calculate y_i for g_i ^ y_i = h_i mod p \n",
    "    for i in range( 0, len(primes) ):\n",
    "        g_i = fast_exponentiation( g, ( N / modulus[i] ) )\n",
    "        h_i = fast_exponentiation( h, ( N / modulus[i] ) )\n",
    "        y_i = baby_step_giant_step( p , g_i, h_i )\n",
    "        disc_logs.append( y_i % modulus[i] )  \n",
    "    # Use Chinese remaineder theorem to piece together solution and solve\n",
    "    # x = y_i ( mod q_i^ e_i ) for all i \n",
    "    return int( chinese_remainder(  disc_logs, modulus ) )\n",
    "\n",
    "# Test file : p = 5, g = 2 , h = 1\n",
    "def main():\n",
    "    args = open('input.txt').read().splitlines()\n",
    "    p = int(args[0]) ; g = int(args[1]) ; h = int(args[2])  \n",
    "    #result = pohlig_hellman( p, g, h )\n",
    "    #print( \"Result of Pohlig-Hellman ( p = \", p, \" g = \", g, \" h = \", h, \") :\\n \", result)\n",
    "    #open('output.txt', 'w').write( str(result) )\n",
    "    \n",
    "    #integers = [1, 4, 511] \n",
    "    #modulus = [2, 3**2, 5**4 ]\n",
    "    #print('Chinese remainder theorem : ' , chinese_remainder( integers,modulus ) )\n",
    "    \n",
    "if  __name__ =='__main__':\n",
    "    main()\n",
    "    \n",
    "print(u_v_gcd(1291,-1074))\n",
    "    "
   ]
  },
  {
   "cell_type": "code",
   "execution_count": null,
   "metadata": {
    "collapsed": true
   },
   "outputs": [],
   "source": []
  }
 ],
 "metadata": {
  "kernelspec": {
   "display_name": "Python 3",
   "language": "python",
   "name": "python3"
  },
  "language_info": {
   "codemirror_mode": {
    "name": "ipython",
    "version": 3
   },
   "file_extension": ".py",
   "mimetype": "text/x-python",
   "name": "python",
   "nbconvert_exporter": "python",
   "pygments_lexer": "ipython3",
   "version": "3.5.1"
  },
  "widgets": {
   "state": {},
   "version": "1.1.2"
  }
 },
 "nbformat": 4,
 "nbformat_minor": 0
}
