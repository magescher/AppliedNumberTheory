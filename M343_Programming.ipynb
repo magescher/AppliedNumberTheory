{
 "cells": [
  {
   "cell_type": "markdown",
   "metadata": {},
   "source": [
    "## M343 - Applied Number Theory\n",
    "## Assignment #2\n",
    "### Abigail Johnson ( amj2694 )\n",
    "### Fall 2016"
   ]
  },
  {
   "cell_type": "code",
   "execution_count": 2,
   "metadata": {
    "collapsed": false
   },
   "outputs": [],
   "source": [
    "from __future__ import division\n",
    "from math import factorial\n",
    "import sys\n",
    "import os\n",
    "import math\n",
    "import numpy as np\n",
    "import re\n",
    "from sympy.ntheory import factorint\n",
    "\n",
    "IN_FILE = 'input.txt'\n",
    "OUT_FILE = 'output.txt'\n",
    "\n",
    "\n",
    "# opens file specified by name, returns contents in array of strings\n",
    "def process_file( file_name ):\n",
    "    return open(file_name).read().splitlines()\n",
    "\n",
    "\n",
    "# Returns gcd(x,y) using Euclidean algorithm\n",
    "# Uses fact that (1) m = nq + r where 0 <= r < n ( for m,n,q,r in Z )\n",
    "#                (2) gcd(m,n) = gcd(n,r)    \n",
    "def gcd(x,y):\n",
    "    # slight performance optimization ( x > 0 added to account neg num)\n",
    "    if y > x and x > 0 :\n",
    "        return gcd(y,x)\n",
    "    elif x % y == 0:\n",
    "        return abs(y)\n",
    "    else:\n",
    "        return abs(gcd( y , x % y ))\n",
    "    \n",
    "    \n",
    "# Computes addition or multiplication (denoted by op) for x and y in ring m    \n",
    "def addition_multiplication_ring(m, op, x, y):\n",
    "    if op == \"*\":\n",
    "        result = ( x * y) % m\n",
    "    else:\n",
    "        result = ( x + y) % m\n",
    "    return result\n",
    "\n",
    "\n",
    "# Decode Message Encrypted with Shift Cypher\n",
    "def decode_shift_cipher(message):\n",
    "    # 1. Preprocess message and setup dicts \n",
    "    message = message.lower()\n",
    "    message = re.sub(r'[^a-zA-Z ]+', '', message)\n",
    "    \n",
    "    # 2. Set up dict objects used for processing \n",
    "    alph_dict = { 'a' : 0, 'b': 1, 'c': 2, 'd': 3, 'e' : 4, 'f' : 5, 'g' : 6, 'h' : 7, 'i' : 8, \n",
    "                 'j' : 9, 'k' : 10, 'l' : 11, 'm' : 12, 'n' : 13, 'o' : 14, 'p' : 15, 'q' : 16, \n",
    "                 'r' : 17, 's' : 18 , 't' : 19, 'u' : 20, 'v' : 21, 'w' : 22, 'x' : 23, 'y' : 24, 'z' : 25 }\n",
    "    alph_dict_inv = { v: k for k, v in alph_dict.items() } # invert to allow reverse indexing \n",
    "    english_dict = enchant.Dict(\"en_US\")\n",
    "    shift_dict = {'key' : 0, 'valid_words' : 0, 'message': '' }\n",
    "    \n",
    "    # 2. Shift messasge 0-25 times, determine and record num valid words seen in shift_dict\n",
    "    for key in range(0,26):            \n",
    "        message_shift = [ char if char == ' ' else alph_dict_inv[ ( (alph_dict[char] + key) % 26 ) ] for char in message ]\n",
    "        message_shift = ''.join(message_shift)\n",
    "        valid_words = 0\n",
    "        for word in message_shift.split(' '):\n",
    "            if english_dict.check(word):\n",
    "                valid_words += 1\n",
    "        if valid_words >= shift_dict['valid_words']:\n",
    "            shift_dict['key'] = key\n",
    "            shift_dict['valid_words'] = valid_words\n",
    "            shift_dict['message'] = message_shift\n",
    "    return shift_dict\n",
    "\n",
    "\n",
    "# computes g^x using fast exponentiation\n",
    "def fast_exponentiation(g, x):\n",
    "    if x == 0:\n",
    "        return 1\n",
    "    elif x % 2 == 1:\n",
    "        return g * fast_exponentiation( g, x-1 )\n",
    "    else:\n",
    "        exp = fast_exponentiation( g, x/2)\n",
    "        return exp * exp\n",
    "\n",
    "    \n",
    "# Computes a inverse mod p \n",
    "# using Euclidean Algorithm and fact that \n",
    "def inverse_mod_p( a, p ):\n",
    "    inv = u_v_gcd(a,p)['u']\n",
    "    return inv % p\n",
    "\n",
    "\n",
    "# TODO: current does not handle b = 0 . fix it\n",
    "# given a and b, returns gcd and u,v inc Integer st au + bv = gcd(a,b)\n",
    "def u_v_gcd(a, b):\n",
    "    u = 1; gcd = a; x = 0; y = b\n",
    "    while True:\n",
    "        if y == 0:\n",
    "            v = ( gcd - ( a * u ) ) // b\n",
    "            ret = {}\n",
    "            ret['u'] = u ; ret['v'] = v ; ret['gcd'] = abs(gcd)\n",
    "            return ret\n",
    "        q = gcd // y \n",
    "        r = gcd % y\n",
    "        s = u - ( q * x )\n",
    "        u = x ; x = s; gcd = y ; y = r;\n",
    " \n",
    "\n",
    "# Encrypts plaintext using elgamal encription\n",
    "# returns ( c1, c2 )\n",
    "# where c1 = ( g ^ k ) mod p\n",
    "#       c2 = ( m * A ^ k ) mod p\n",
    "#            where A = (g ^ a ) \n",
    "def elgamal_encryption(p, g, m, g_pow_a):\n",
    "    y = np.random.randint( 1, p )\n",
    "    print(\"y : \", y)\n",
    "    c1 = fast_exponentiation( g_pow_a, y)\n",
    "    c2 = c1 * inverse_mod_p( m, p)\n",
    "    return ( c1, c2 )\n",
    "\n",
    "\n",
    "# Input: A cyclic group G of order p, having a generator g and an element h.\n",
    "# Output: A value x st g^x congr h modulo p\n",
    "# Run-time : O( n^(1/2) )\n",
    "def baby_step_giant_step(p, g, h):\n",
    "    # 1. Compute limits\n",
    "    m = math.ceil( math.sqrt(p) )   \n",
    "    # 2. Giant Step\n",
    "    giant_step = {}\n",
    "    for i in range ( 0, m ):\n",
    "        giant_step[ fast_exponentiation( g , i) % p ] = i    \n",
    "    # 3. Baby Step / Intersection detection\n",
    "    g_inv = inverse_mod_p( g, p )\n",
    "    u = g_inv ** m \n",
    "    for i in range ( 0, m ):\n",
    "        baby_step = ( ( u ** i ) * h ) % p \n",
    "        if baby_step in giant_step:\n",
    "            x = m * i + giant_step[ baby_step ]\n",
    "            return x\n",
    "        \n",
    "        \n",
    "# TODO : implement as practice ( currently using preimplemented module )\n",
    "# Returns prime factorization of given number\n",
    "def prime_factorization(N):\n",
    "    bases = []\n",
    "    exponents = []   \n",
    "    return bases, exponents \n",
    "\n",
    "\n",
    "# Uses chinese remaineder theorem to solve system of congruences of form:\n",
    "#    x (output) = integers_i (mod modulus_i) for all i \n",
    "def chinese_remainder( a, n ):  \n",
    "    #print(\"integers: \", a, \" modulus: \", n)\n",
    "    sum = 0\n",
    "    prod = reduce(lambda a, b: a*b, n)\n",
    "    for n_i, a_i in zip(n, a):\n",
    "        p = prod / n_i\n",
    "        inv = inverse_mod_p(p, n_i)\n",
    "        #print('inverse_mod_p w/ p=', p,\" n=\", n_i, \" :\\n\", inv, \"\\n\")\n",
    "        sum += a_i * inv * p\n",
    "        \n",
    "    return sum % prod\n",
    "\n",
    "\n",
    "# Pohlig-Hellman reduces discrete log for an element of order N to computing \n",
    "# discrete logs for elements of order q_i^{e_i}, for various primes q_i and exponents \n",
    "# e_i as specified by the prime factorization of N.\n",
    "def pohlig_hellman(p, g, h ):\n",
    "    N = p - 1\n",
    "    # Calculate prime factorization \n",
    "    prime_fact = factorint(N)\n",
    "    primes = [] ; exponents = []\n",
    "    for key, value in prime_fact.items():\n",
    "        primes.append(key)\n",
    "        exponents.append(value)\n",
    "    disc_logs = []\n",
    "    modulus = [ fast_exponentiation( primes[i], exponents[i] ) for i in range( 0, len( primes ) ) ]\n",
    "    # Calculate y_i for g_i ^ y_i = h_i mod p \n",
    "    for i in range( 0, len(primes) ):\n",
    "        g_i = fast_exponentiation( g, ( N / modulus[i] ) )\n",
    "        h_i = fast_exponentiation( h, ( N / modulus[i] ) )\n",
    "        y_i = baby_step_giant_step( p , g_i, h_i )\n",
    "        disc_logs.append( y_i % modulus[i] )  \n",
    "    # Use Chinese remaineder theorem to piece together solution and solve\n",
    "    # x = y_i ( mod q_i^ e_i ) for all i \n",
    "    return int( chinese_remainder(  disc_logs, modulus ) )"
   ]
  },
  {
   "cell_type": "markdown",
   "metadata": {},
   "source": [
    "#### Problem 1 - Elgamal Encryption\n",
    "Please write a computer program that performs Elgamal encryption. The input is a file “input.txt” that has p on the first line, g on the second line, m on the third line, and g^a (the value sent by Alice) on the fourth line. Output the result to “output.txt”."
   ]
  },
  {
   "cell_type": "code",
   "execution_count": 3,
   "metadata": {
    "collapsed": false
   },
   "outputs": [
    {
     "name": "stdout",
     "output_type": "stream",
     "text": [
      "\n"
     ]
    }
   ],
   "source": [
    "def main():\n",
    "    #print('Inverse mod p: ', inverse_mod_p(3589 , 32610))\n",
    "    args = open('input.txt').read().splitlines()\n",
    "    p = int(args[0]); g = int(args[1]) ; m = int(args[2]) ; g_pow_a = int(args[3]) \n",
    "    result = elgamal_encryption( p, g, m, g_pow_a )\n",
    "    print( \"Elgamal Encryption with p = \", p, \", g = \", g, \", m = \", m, \", g_pow_a = \", g_pow_a, \" :\\n \\t e(m) = \", result)\n",
    "    open('output.txt', 'w').write( str(result) )\n",
    "    \n",
    "if  __name__ =='__main__':\n",
    "    main()"
   ]
  },
  {
   "cell_type": "markdown",
   "metadata": {},
   "source": [
    "#### Problem 2 - Babystep Giantstep Algorithm\n",
    "Write a computer program that implements the Babystep-Giantstep algorithm for solving the discrete log problem. The input is a file “in- put.txt” that has p on the first line, g on the second, and h on the third. Output the result to “output.txt”."
   ]
  },
  {
   "cell_type": "code",
   "execution_count": 5,
   "metadata": {
    "collapsed": false
   },
   "outputs": [
    {
     "name": "stdout",
     "output_type": "stream",
     "text": [
      "Result of Babystep Giantstep ( p =  2  g =  11250  h =  11250 ) :\n",
      "  1\n"
     ]
    }
   ],
   "source": [
    "# Test file : p = 5, g = 2 , h = 1\n",
    "def main():\n",
    "    args = open('input.txt').read().splitlines()\n",
    "    p = int(args[0]) ; g = int(args[1]) ; h = int(args[2])  \n",
    "    result = baby_step_giant_step( p, g, h )\n",
    "    print( \"Result of Babystep Giantstep ( p = \", p, \" g = \", g, \" h = \", h, \") :\\n \", result)\n",
    "    open('output.txt', 'w').write( str(result) )\n",
    "    \n",
    "if  __name__ =='__main__':\n",
    "    main()\n",
    "    \n",
    "#print(baby_step_giant_step(17,3,1))    \n",
    "#print(baby_step_giant_step(31,3,6))"
   ]
  },
  {
   "cell_type": "markdown",
   "metadata": {},
   "source": [
    "#### Problem 1.36\n",
    "Compute 2^[ (p-1)/2 ] mod p for every prime 3 <= p < 20 and make conjectures about values. Prove your conjecture right."
   ]
  },
  {
   "cell_type": "code",
   "execution_count": 40,
   "metadata": {
    "collapsed": false
   },
   "outputs": [
    {
     "name": "stdout",
     "output_type": "stream",
     "text": [
      "2^[ (p-1)/2 ] mod p for p =  3  :  2  \n",
      "\n",
      "2^[ (p-1)/2 ] mod p for p =  5  :  4  \n",
      "\n",
      "2^[ (p-1)/2 ] mod p for p =  7  :  1  \n",
      "\n",
      "2^[ (p-1)/2 ] mod p for p =  11  :  10  \n",
      "\n",
      "2^[ (p-1)/2 ] mod p for p =  13  :  12  \n",
      "\n",
      "2^[ (p-1)/2 ] mod p for p =  17  :  1  \n",
      "\n",
      "2^[ (p-1)/2 ] mod p for p =  19  :  18  \n",
      "\n"
     ]
    }
   ],
   "source": [
    "primes = [ 3, 5, 7, 11, 13, 17, 19 ]\n",
    "for p in primes:\n",
    "    exp = ( p - 1 ) /2\n",
    "    val =  ( fast_exponentiation(2, exp) ) % p\n",
    "    \n",
    "    print(\"2^[ (p-1)/2 ] mod p for p = \", p, \" : \", val, \" \\n\")\n",
    "    "
   ]
  },
  {
   "cell_type": "markdown",
   "metadata": {
    "collapsed": true
   },
   "source": [
    "#### Discrete Log - Pohlig Hellman\n",
    "For this problem, you will write an efficient discrete log solver, using the Shank’s solver you wrote for last homework as a base.\n",
    "    (a) Implement the “shifting” technique for reducing discrete log mod p^n to discrete log mod p and arithmetic; the result should be a function which takes g, h, p, and n as inputs and solves g x = h mod p ^ n.\n",
    "    (b) Implement the Pohlig-Hellman algorithm, using the function from the first part as your “black box” discrete log solver"
   ]
  },
  {
   "cell_type": "code",
   "execution_count": 57,
   "metadata": {
    "collapsed": false
   },
   "outputs": [
    {
     "name": "stdout",
     "output_type": "stream",
     "text": [
      "{'gcd': 1, 'u': -391, 'v': -470}\n"
     ]
    }
   ],
   "source": [
    "# Test file : p = 5, g = 2 , h = 1\n",
    "def main():\n",
    "    args = open('input.txt').read().splitlines()\n",
    "    p = int(args[0]) ; g = int(args[1]) ; h = int(args[2])  \n",
    "    result = pohlig_hellman( p, g, h )\n",
    "    print( \"Result of Pohlig-Hellman ( p = \", p, \" g = \", g, \" h = \", h, \") :\\n \", result)\n",
    "    open('output.txt', 'w').write( str(result) )\n",
    "    \n",
    "if  __name__ =='__main__':\n",
    "    main()\n",
    "    \n",
    "print(u_v_gcd(1291,-1074))\n",
    "    "
   ]
  },
  {
   "cell_type": "code",
   "execution_count": null,
   "metadata": {
    "collapsed": true
   },
   "outputs": [],
   "source": [
    "# TODO: Add ouput to console stating : \n",
    "# is your input specified as follows ?\n",
    "# if not enter order of variables seperated by commas,etc\n",
    "\n",
    "# Future:\n",
    "# Extact method from hw4\n",
    "# Add console o/p of assumptions and/or assertions"
   ]
  },
  {
   "cell_type": "markdown",
   "metadata": {
    "collapsed": true
   },
   "source": [
    "### HW 4\n",
    "1. Write program takes as i/p e, c, p and solves x^e = c mod p "
   ]
  },
  {
   "cell_type": "code",
   "execution_count": 6,
   "metadata": {
    "collapsed": false
   },
   "outputs": [
    {
     "name": "stdout",
     "output_type": "stream",
     "text": [
      "Given x^ 1 = 2 mod( 5 ):\n",
      " \t x = 2\n"
     ]
    }
   ],
   "source": [
    "# Using proposition 3.2\n",
    "# Let p be prime and e >= 1 integer satisfying \n",
    "#      gcd(e, p - 1) = 1\n",
    "# Then there exists and integer d st        \n",
    "#      de = 1 mod (p - 1).       \n",
    "# Then the congruence \n",
    "#       x^e = c mod(p) \n",
    "# Has the unique solution\n",
    "#       x = c^d mod(p)\n",
    "def main():\n",
    "    args = open('hw4_input.txt').read().splitlines()\n",
    "    e = int(args[0]) ; c = int(args[1]) ; p = int(args[2])  \n",
    "    d = inverse_mod_p( e, p - 1 )\n",
    "    result = fast_exponentiation(c, d) % p\n",
    "    print( \"Given x^\", e, \"=\", c, \"mod(\", p, \"):\\n \\t x =\", result)\n",
    "    open('hw4_output.txt', 'w').write( str(result) )\n",
    "\n",
    "if  __name__ =='__main__':\n",
    "    main()\n",
    "    \n",
    "# 1st test file: e = 1, c = 2, p = 5 Expected Result: 2"
   ]
  },
  {
   "cell_type": "markdown",
   "metadata": {},
   "source": [
    "### HW 5\n",
    "1: \n",
    "    1. i/p : p (prime) , m, q_1, q_2 inc Fp[t]\n",
    "    2. o/p : q_1q_2 mod m and q_1 + q_2 mod m (ie computation takes place in quotient Fp[t]/(m)\n",
    "2: \n",
    "    1. i/p : composite # N = pq\n",
    "    2. o/p : p and q using Pollard's p - 1"
   ]
  },
  {
   "cell_type": "code",
   "execution_count": 4,
   "metadata": {
    "collapsed": false
   },
   "outputs": [
    {
     "name": "stdout",
     "output_type": "stream",
     "text": [
      "Given q1 =  [1, 1, 0, 0, 0]  q2 =  [1, 1, 0, 0, 0]  m =  [1, 1, 0, 1, 0] , p =  2  :\n",
      "  \t q1*q2 =  [1, 0, 1]  mod( [1, 1, 0, 1, 0] ) \n",
      " \t q1+q2 =  [0, 0]  mod( [1, 1, 0, 1, 0] ) \n",
      "\n"
     ]
    },
    {
     "data": {
      "text/plain": [
       "'\\nInput 1:\\nGiven q1 =  [1, 0, 0, 0, 0]  q2 =  [1, 1, 1, 0, 0]  m =  [1, 1, 0, 1, 0] , p =  2  ) :\\n  \\t q1*q2 =  [1, 1, 1]  mod( [1, 1, 0, 1, 0] ) correct\\n \\t q1+q2 =  [0, 1, 1]  mod( [1, 1, 0, 1, 0] ) \\nInput 2:\\nGiven q1 =  [1, 1, 0, 0, 0]  q2 =  [0, 0, 1, 0, 0]  m =  [1, 1, 0, 1, 0] , p =  2  ) :\\n  \\t q1*q2 =  [1, 1, 1]  mod( [1, 1, 0, 1, 0] ) correct\\n \\t q1+q2 =  [1, 1, 1]  mod( [1, 1, 0, 1, 0] ) \\nInput 3:\\nGiven q1 =  [1, 1, 0, 0, 0]  q2 =  [1, 1, 0, 0, 0]  m =  [1, 1, 0, 1, 0] , p =  2  ) :\\n  \\t q1*q2 =  [1, 0, 1]  mod( [1, 1, 0, 1, 0] ) correct\\n \\t q1+q2 =  [0, 0]  mod( [1, 1, 0, 1, 0] ) \\nInput 4:\\nGiven q1 =  [1, 0, 0, 0, 0]  q2 =  [0, 1, 0, 0, 0]  m =  [1, 1, 0, 1, 0] , p =  2  ) :\\n  \\t q1*q2 =  [0, 1]  mod( [1, 1, 0, 1, 0] ) correct\\n \\t q1+q2 =  [1, 1]  mod( [1, 1, 0, 1, 0] ) \\nInput 5:\\nGiven q1 =  [1, 0, 0, 0, 0]  q2 =  [0, 1, 1, 0, 0]  m =  [1, 1, 0, 1, 0] , p =  2  ) :\\n  \\t q1*q2 =  [0, 1, 1]  mod( [1, 1, 0, 1, 0] ) correct\\n \\t q1+q2 =  [1, 1, 1]  mod( [1, 1, 0, 1, 0] ) \\n'"
      ]
     },
     "execution_count": 4,
     "metadata": {},
     "output_type": "execute_result"
    }
   ],
   "source": [
    "from numpy.polynomial import polynomial as P\n",
    "\n",
    "# Computes addition mod m for finite fields q1, q2\n",
    "def field_add_mod_m(q1,q2, m,p):\n",
    "    add = P.polyadd(q1,q2)\n",
    "    #print(\"q1 + q2 = \", add)\n",
    "    r, mod_add = P.polydiv(add,m)\n",
    "    #print( \"(NonSimplified) q1 + q2 mod m = \", mod_add )\n",
    "    add_res = [ ( int(mod_add[i]) % (p)) for i in range(0, len(mod_add) ) ]\n",
    "    #print(\"(Simplified) q1 + q2 mod m = \", add_res)\n",
    "    return add_res\n",
    "\n",
    "# Computes multiplication mod m for finite fields q1, q2\n",
    "def field_mult_mod_m(q1,q2, m,p):\n",
    "    mult = P.polymul(q1,q2)\n",
    "    #print(\"q1 * q2 = \", mult)\n",
    "    r, mod_mult = P.polydiv(mult,m)\n",
    "    #print( \"(NonSimplified) q1 * q2 mod m = \", mod_mult )\n",
    "    mult_res = [ ( int(mod_mult[i]) % (p)) for i in range(0, len(mod_mult) ) ]\n",
    "    #print(\"(Simplied) q1 * q2 mod m = \" , mult_res)\n",
    "    return mult_res\n",
    "\n",
    "# TODO: what is point of p and m input? What do these look like\n",
    "# 3 4 0 5 == 3 + 4x + 5x^3\n",
    "def main():\n",
    "    args = open('input.txt').read().splitlines()\n",
    "    q1 = [ int(x) for x in args[0].split() ] \n",
    "    q2 = [ int(x) for x in args[1].split() ]\n",
    "    m = [ int(x) for x in args[2].split() ]  \n",
    "    p = int(args[3]) \n",
    "    res1 = field_mult_mod_m(q1,q2,m,p)\n",
    "    res2 = field_add_mod_m(q1,q2,m,p)\n",
    "    print( \"Given q1 = \", q1, \" q2 = \", q2, \" m = \", m, \", p = \", p, \" :\\n \", \n",
    "          \"\\t q1*q2 = \" , res1, \" mod(\", m ,\") \\n\",\n",
    "          \"\\t q1+q2 = \" , res2, \" mod(\", m ,\") \\n\" )\n",
    "    open('output.txt', 'w').write( str(res1) + \"\\n\" + str(res2) )\n",
    "\n",
    "if  __name__ =='__main__':\n",
    "    main()\n",
    "    \n",
    "\"\"\"\n",
    "Input 1:\n",
    "Given q1 =  [1, 0, 0, 0, 0]  q2 =  [1, 1, 1, 0, 0]  m =  [1, 1, 0, 1, 0] , p =  2  ) :\n",
    "  \t q1*q2 =  [1, 1, 1]  mod( [1, 1, 0, 1, 0] ) correct\n",
    " \t q1+q2 =  [0, 1, 1]  mod( [1, 1, 0, 1, 0] ) \n",
    "Input 2:\n",
    "Given q1 =  [1, 1, 0, 0, 0]  q2 =  [0, 0, 1, 0, 0]  m =  [1, 1, 0, 1, 0] , p =  2  ) :\n",
    "  \t q1*q2 =  [1, 1, 1]  mod( [1, 1, 0, 1, 0] ) correct\n",
    " \t q1+q2 =  [1, 1, 1]  mod( [1, 1, 0, 1, 0] ) \n",
    "Input 3:\n",
    "Given q1 =  [1, 1, 0, 0, 0]  q2 =  [1, 1, 0, 0, 0]  m =  [1, 1, 0, 1, 0] , p =  2  ) :\n",
    "  \t q1*q2 =  [1, 0, 1]  mod( [1, 1, 0, 1, 0] ) correct\n",
    " \t q1+q2 =  [0, 0]  mod( [1, 1, 0, 1, 0] ) \n",
    "Input 4:\n",
    "Given q1 =  [1, 0, 0, 0, 0]  q2 =  [0, 1, 0, 0, 0]  m =  [1, 1, 0, 1, 0] , p =  2  ) :\n",
    "  \t q1*q2 =  [0, 1]  mod( [1, 1, 0, 1, 0] ) correct\n",
    " \t q1+q2 =  [1, 1]  mod( [1, 1, 0, 1, 0] ) \n",
    "Input 5:\n",
    "Given q1 =  [1, 0, 0, 0, 0]  q2 =  [0, 1, 1, 0, 0]  m =  [1, 1, 0, 1, 0] , p =  2  ) :\n",
    "  \t q1*q2 =  [0, 1, 1]  mod( [1, 1, 0, 1, 0] ) correct\n",
    " \t q1+q2 =  [1, 1, 1]  mod( [1, 1, 0, 1, 0] ) \n",
    "\"\"\""
   ]
  },
  {
   "cell_type": "code",
   "execution_count": 18,
   "metadata": {
    "collapsed": false
   },
   "outputs": [
    {
     "data": {
      "text/plain": [
       "'\\ndef main():\\n    args = open(\\'hw5-2_input.txt\\').read().splitlines()\\n    N = int(args[0]) \\n    p = pollard_fact(N)\\n    q = int( N / p )\\n    print( \"Using Pollard p - 1 ( N =\" , N, \") : \\n\\t p = \", p, \", q = \", q )\\n    open(\\'hw5-2_output.txt\\', \\'w\\').write( str(p) + \"\\n\" + str(q) )\\n    \\nif  __name__ ==\\'__main__\\':\\n    main()\\n'"
      ]
     },
     "execution_count": 18,
     "metadata": {},
     "output_type": "execute_result"
    }
   ],
   "source": [
    "# Factors using pollards p - 1\n",
    "import numpy as np\n",
    "\n",
    "def pollard_fact(n):\n",
    "    while True:\n",
    "        a = np.random.randint(2,n-1)\n",
    "        #if gcd(a,n) > 1:\n",
    "        #    return a\n",
    "        r = 2\n",
    "        choose_new_bound = False\n",
    "        while choose_new_bound == False:    \n",
    "            # dynamic prodcut using : (a^(r−1)!)^r = a^r!\n",
    "            a = fast_exponentiation( a, r )\n",
    "            d = gcd( ( a - 1 ) ,n);\n",
    "            #print( \"d:\",d1,\"a-1:\",a-1)\n",
    "            if d == 1:\n",
    "                choose_new_bound = True\n",
    "            elif d < n: \n",
    "                return d\n",
    "            else:\n",
    "                r += 1\n",
    "        \n",
    "    return -1;\n",
    "'''\n",
    "def main():\n",
    "    args = open('hw5-2_input.txt').read().splitlines()\n",
    "    N = int(args[0]) \n",
    "    p = pollard_fact(N)\n",
    "    q = int( N / p )\n",
    "    print( \"Using Pollard p - 1 ( N =\" , N, \") : \\n\\t p = \", p, \", q = \", q )\n",
    "    open('hw5-2_output.txt', 'w').write( str(p) + \"\\n\" + str(q) )\n",
    "    \n",
    "if  __name__ =='__main__':\n",
    "    main()\n",
    "'''\n",
    "# using 241 and 349    \n",
    "# Solves the congruence x^e = c mod(p*q) given e, c, p, q \n",
    "# where p & q prime and gcd(p,q) = 1"
   ]
  },
  {
   "cell_type": "code",
   "execution_count": null,
   "metadata": {
    "collapsed": true
   },
   "outputs": [],
   "source": []
  },
  {
   "cell_type": "markdown",
   "metadata": {},
   "source": [
    "### HW 6\n",
    "1. Pollard p for discrete log\n",
    "2. Implement RSA blind signature. Write program generate key pair for Alice so only i/p we need is message"
   ]
  },
  {
   "cell_type": "code",
   "execution_count": 3,
   "metadata": {
    "collapsed": false
   },
   "outputs": [
    {
     "name": "stdout",
     "output_type": "stream",
     "text": [
      "Using Pollard's Rho, given  19 ^x =  29850  mod(  48611  ): \n",
      " \t x =  8703.0\n"
     ]
    }
   ],
   "source": [
    "\n",
    "def successor(x, s, t, p, g , h):\n",
    "        N = (p - 1) / 2\n",
    "        \n",
    "        # Classify\n",
    "        # 3n + 2 -> 0\n",
    "        # 3n     -> 1\n",
    "        # 3n + 1 -> 2\n",
    "        clazz = ( x + 1 ) % 3\n",
    "        if clazz == 0:\n",
    "                return (  (h * x)  % p ) , ( (s + 1) % N ) , ( t ) \n",
    "        elif clazz == 1:\n",
    "                return (  (x * x)  % p ) , ( (2 * s) % N ) , ( (2 * t) % N )\n",
    "        else: # c == 2\n",
    "                return (  (g * x)  % p ) , ( s ) , (  (t + 1) % N )\n",
    "\n",
    "# Implements Pollard's Rho for solving Discreet Logs\n",
    "# Runtime : O(log(N))\n",
    "def pollards_rho(g, h, p):   \n",
    "    N = (p - 1) / 2\n",
    "    xa, sa, ta = 1, 0 ,0 \n",
    "    xb, sb, tb = successor(1, 0, 0, p, g, h)\n",
    "    while xa != xb:\n",
    "        xa, sa, ta = successor(xa, sa, ta, p, g, h)\n",
    "        # double step\n",
    "        xb, sb, tb = successor(xb, sb, tb, p, g, h)\n",
    "        xb, sb, tb = successor(xb, sb, tb, p, g, h)\n",
    "\n",
    "    s, t = sa - sb % N , tb - ta % N\n",
    "    if s == 0:\n",
    "        print(\"ERROR pollard's rho\")\n",
    "        return -1\n",
    "    elif s < 0:\n",
    "        s +=  N\n",
    "    if t < 0:\n",
    "        t += N\n",
    "\n",
    "    return  inverse_mod_p( s , N)  * t % N\n",
    "    \n",
    "\n",
    "def main():\n",
    "    args = open('input.txt').read().splitlines()\n",
    "    p = int(args[0]) ; g = int(args[1]) ; h = int(args[2])  \n",
    "    result = pollards_rho( g, h, p )\n",
    "    print( \"Using Pollard's Rho, given \", g, \"^x = \", h ,\" mod( \", p, \" ): \\n\",\n",
    "          \"\\t x = \", result )\n",
    "    open('output.txt', 'w').write( str(int(result))  )\n",
    "\n",
    "if  __name__ =='__main__':\n",
    "    main()"
   ]
  },
  {
   "cell_type": "code",
   "execution_count": 24,
   "metadata": {
    "collapsed": false
   },
   "outputs": [
    {
     "name": "stdout",
     "output_type": "stream",
     "text": [
      "Converting message to integer...\n",
      "\tMessage:  1 1 0 0 0 \n",
      "\tEncoded message:  231989793353193238835232\n",
      "76\n",
      "Blind RSA signature. \n",
      " \t Signed message:  1 \n",
      "\t Public Key: (423004220,76)\n"
     ]
    }
   ],
   "source": [
    "from random import randrange, getrandbits\n",
    "from itertools import repeat\n",
    "from functools import reduce\n",
    "\n",
    "def message_to_integer(message):\n",
    "    print(\"Converting message to integer...\")\n",
    "    print(\"\\tMessage: \", message)\n",
    "    encode = reduce(lambda x, y : (x << 8) + y, map(ord, message))\n",
    "    print(\"\\tEncoded message: \", encode)\n",
    "    return encode\n",
    "\n",
    "#Pick two large prime numbers, p and q. Let n=pq. Typically, n is a 1024 bit number. \n",
    "#Pick e relatively prime to (p-1)(q-1). Now find d such that ed=1 mod (p-1)(q-1). \n",
    "#The pair of numbers (N, e) is the public key. The pair of numbers (d, n) is the private key. \n",
    "#The two primes p,q are no longer needed, and can be discarded, but should never be revealed.\n",
    "#The signature of message m is  s = md mod n.\n",
    "def blind_RSA_sig( message ):\n",
    "    # TODO: in practical application this would not be hardcoded\n",
    "    p = 8703\n",
    "    q = 48611\n",
    "    \n",
    "    N = ( p - 1 ) * ( q - 1 )\n",
    "    e = pollard_fact(N)\n",
    "    #print(e)\n",
    "    # Find d such that ed=1 mod (p-1)(q-1)\n",
    "    d = inverse_mod_p( N, e)\n",
    "    \n",
    "    blind_rsa = {}\n",
    "    # signature of message m is  s = m^d mod n\n",
    "    blind_rsa['signed'] = fast_exponentiation(message,d) % N\n",
    "    # pair of numbers (N, e) is the public key\n",
    "    blind_rsa['public_key'] = \"(\" + str(N) + \",\" + str(e) + \")\"\n",
    "    #print(blind_rsa)\n",
    "    return blind_rsa\n",
    "\n",
    "# Implement RSA blind signature. Write program generate key pair for Alice so only i/p we need is message\n",
    "def main():\n",
    "    args = open('input.txt').read().splitlines()\n",
    "    message = args[0] \n",
    "    encoded_message = message_to_integer(message)\n",
    "    rsa_sig = blind_RSA_sig(message)\n",
    "    #result = pollards_rho()\n",
    "    print( \"Blind RSA signature. \\n \\t Signed message: \", rsa_sig['signed'] ,\"\\n\\t Public Key:\", rsa_sig['public_key'] )\n",
    "    open('output.txt', 'w').write( rsa_sig['public_key'] + \"/n\" +  str(rsa_sig['signed']))\n",
    "    \n",
    "if  __name__ =='__main__':\n",
    "    main()"
   ]
  },
  {
   "cell_type": "code",
   "execution_count": null,
   "metadata": {
    "collapsed": true
   },
   "outputs": [],
   "source": []
  }
 ],
 "metadata": {
  "anaconda-cloud": {},
  "kernelspec": {
   "display_name": "Python [default]",
   "language": "python",
   "name": "python3"
  },
  "language_info": {
   "codemirror_mode": {
    "name": "ipython",
    "version": 3
   },
   "file_extension": ".py",
   "mimetype": "text/x-python",
   "name": "python",
   "nbconvert_exporter": "python",
   "pygments_lexer": "ipython3",
   "version": "3.5.2"
  }
 },
 "nbformat": 4,
 "nbformat_minor": 0
}
